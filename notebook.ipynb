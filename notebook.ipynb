{
  "nbformat": 4,
  "nbformat_minor": 0,
  "metadata": {
    "orig_nbformat": 2,
    "colab": {
      "name": "notebook.ipynb",
      "provenance": [],
      "toc_visible": true,
      "machine_shape": "hm",
      "include_colab_link": true
    },
    "kernelspec": {
      "name": "python3",
      "display_name": "Python 3"
    },
    "accelerator": "TPU",
    "widgets": {
      "application/vnd.jupyter.widget-state+json": {
        "bad42d9a1c4c43c6a26f43fecfa79da7": {
          "model_module": "@jupyter-widgets/controls",
          "model_name": "HBoxModel",
          "state": {
            "_view_name": "HBoxView",
            "_dom_classes": [],
            "_model_name": "HBoxModel",
            "_view_module": "@jupyter-widgets/controls",
            "_model_module_version": "1.5.0",
            "_view_count": null,
            "_view_module_version": "1.5.0",
            "box_style": "",
            "layout": "IPY_MODEL_c8eea1570f6b49998e47139438e31f4d",
            "_model_module": "@jupyter-widgets/controls",
            "children": [
              "IPY_MODEL_d5618ea91a0a44a69f455472a8afb229",
              "IPY_MODEL_71fe11f80a9445aeb1f80fd28fdb4160"
            ]
          }
        },
        "c8eea1570f6b49998e47139438e31f4d": {
          "model_module": "@jupyter-widgets/base",
          "model_name": "LayoutModel",
          "state": {
            "_view_name": "LayoutView",
            "grid_template_rows": null,
            "right": null,
            "justify_content": null,
            "_view_module": "@jupyter-widgets/base",
            "overflow": null,
            "_model_module_version": "1.2.0",
            "_view_count": null,
            "flex_flow": null,
            "width": null,
            "min_width": null,
            "border": null,
            "align_items": null,
            "bottom": null,
            "_model_module": "@jupyter-widgets/base",
            "top": null,
            "grid_column": null,
            "overflow_y": null,
            "overflow_x": null,
            "grid_auto_flow": null,
            "grid_area": null,
            "grid_template_columns": null,
            "flex": null,
            "_model_name": "LayoutModel",
            "justify_items": null,
            "grid_row": null,
            "max_height": null,
            "align_content": null,
            "visibility": null,
            "align_self": null,
            "height": null,
            "min_height": null,
            "padding": null,
            "grid_auto_rows": null,
            "grid_gap": null,
            "max_width": null,
            "order": null,
            "_view_module_version": "1.2.0",
            "grid_template_areas": null,
            "object_position": null,
            "object_fit": null,
            "grid_auto_columns": null,
            "margin": null,
            "display": null,
            "left": null
          }
        },
        "d5618ea91a0a44a69f455472a8afb229": {
          "model_module": "@jupyter-widgets/controls",
          "model_name": "IntProgressModel",
          "state": {
            "_view_name": "ProgressView",
            "style": "IPY_MODEL_799bfbca1cb64a2fab816d538cd80214",
            "_dom_classes": [],
            "description": "  0%",
            "_model_name": "IntProgressModel",
            "bar_style": "",
            "max": 100,
            "_view_module": "@jupyter-widgets/controls",
            "_model_module_version": "1.5.0",
            "value": 0,
            "_view_count": null,
            "_view_module_version": "1.5.0",
            "orientation": "horizontal",
            "min": 0,
            "description_tooltip": null,
            "_model_module": "@jupyter-widgets/controls",
            "layout": "IPY_MODEL_f667690d700e4654aef689a953c09001"
          }
        },
        "71fe11f80a9445aeb1f80fd28fdb4160": {
          "model_module": "@jupyter-widgets/controls",
          "model_name": "HTMLModel",
          "state": {
            "_view_name": "HTMLView",
            "style": "IPY_MODEL_0e8dee67ffd74e79a8c6936b1d2cce95",
            "_dom_classes": [],
            "description": "",
            "_model_name": "HTMLModel",
            "placeholder": "​",
            "_view_module": "@jupyter-widgets/controls",
            "_model_module_version": "1.5.0",
            "value": " 0/100 [00:00&lt;?, ?it/s]",
            "_view_count": null,
            "_view_module_version": "1.5.0",
            "description_tooltip": null,
            "_model_module": "@jupyter-widgets/controls",
            "layout": "IPY_MODEL_37154aec11654fc5bdc4cb0ce4f39a0b"
          }
        },
        "799bfbca1cb64a2fab816d538cd80214": {
          "model_module": "@jupyter-widgets/controls",
          "model_name": "ProgressStyleModel",
          "state": {
            "_view_name": "StyleView",
            "_model_name": "ProgressStyleModel",
            "description_width": "initial",
            "_view_module": "@jupyter-widgets/base",
            "_model_module_version": "1.5.0",
            "_view_count": null,
            "_view_module_version": "1.2.0",
            "bar_color": null,
            "_model_module": "@jupyter-widgets/controls"
          }
        },
        "f667690d700e4654aef689a953c09001": {
          "model_module": "@jupyter-widgets/base",
          "model_name": "LayoutModel",
          "state": {
            "_view_name": "LayoutView",
            "grid_template_rows": null,
            "right": null,
            "justify_content": null,
            "_view_module": "@jupyter-widgets/base",
            "overflow": null,
            "_model_module_version": "1.2.0",
            "_view_count": null,
            "flex_flow": null,
            "width": null,
            "min_width": null,
            "border": null,
            "align_items": null,
            "bottom": null,
            "_model_module": "@jupyter-widgets/base",
            "top": null,
            "grid_column": null,
            "overflow_y": null,
            "overflow_x": null,
            "grid_auto_flow": null,
            "grid_area": null,
            "grid_template_columns": null,
            "flex": null,
            "_model_name": "LayoutModel",
            "justify_items": null,
            "grid_row": null,
            "max_height": null,
            "align_content": null,
            "visibility": null,
            "align_self": null,
            "height": null,
            "min_height": null,
            "padding": null,
            "grid_auto_rows": null,
            "grid_gap": null,
            "max_width": null,
            "order": null,
            "_view_module_version": "1.2.0",
            "grid_template_areas": null,
            "object_position": null,
            "object_fit": null,
            "grid_auto_columns": null,
            "margin": null,
            "display": null,
            "left": null
          }
        },
        "0e8dee67ffd74e79a8c6936b1d2cce95": {
          "model_module": "@jupyter-widgets/controls",
          "model_name": "DescriptionStyleModel",
          "state": {
            "_view_name": "StyleView",
            "_model_name": "DescriptionStyleModel",
            "description_width": "",
            "_view_module": "@jupyter-widgets/base",
            "_model_module_version": "1.5.0",
            "_view_count": null,
            "_view_module_version": "1.2.0",
            "_model_module": "@jupyter-widgets/controls"
          }
        },
        "37154aec11654fc5bdc4cb0ce4f39a0b": {
          "model_module": "@jupyter-widgets/base",
          "model_name": "LayoutModel",
          "state": {
            "_view_name": "LayoutView",
            "grid_template_rows": null,
            "right": null,
            "justify_content": null,
            "_view_module": "@jupyter-widgets/base",
            "overflow": null,
            "_model_module_version": "1.2.0",
            "_view_count": null,
            "flex_flow": null,
            "width": null,
            "min_width": null,
            "border": null,
            "align_items": null,
            "bottom": null,
            "_model_module": "@jupyter-widgets/base",
            "top": null,
            "grid_column": null,
            "overflow_y": null,
            "overflow_x": null,
            "grid_auto_flow": null,
            "grid_area": null,
            "grid_template_columns": null,
            "flex": null,
            "_model_name": "LayoutModel",
            "justify_items": null,
            "grid_row": null,
            "max_height": null,
            "align_content": null,
            "visibility": null,
            "align_self": null,
            "height": null,
            "min_height": null,
            "padding": null,
            "grid_auto_rows": null,
            "grid_gap": null,
            "max_width": null,
            "order": null,
            "_view_module_version": "1.2.0",
            "grid_template_areas": null,
            "object_position": null,
            "object_fit": null,
            "grid_auto_columns": null,
            "margin": null,
            "display": null,
            "left": null
          }
        },
        "7479c6c9d41741cf91c6717b2e1be49a": {
          "model_module": "@jupyter-widgets/controls",
          "model_name": "HBoxModel",
          "state": {
            "_view_name": "HBoxView",
            "_dom_classes": [],
            "_model_name": "HBoxModel",
            "_view_module": "@jupyter-widgets/controls",
            "_model_module_version": "1.5.0",
            "_view_count": null,
            "_view_module_version": "1.5.0",
            "box_style": "",
            "layout": "IPY_MODEL_292f5b27d67f4469ba2d8a05dd236daa",
            "_model_module": "@jupyter-widgets/controls",
            "children": [
              "IPY_MODEL_4bcd1b1f59bd4e66b16902b9d1e71166",
              "IPY_MODEL_a58a69ff69264be3859d04589d4efc4a"
            ]
          }
        },
        "292f5b27d67f4469ba2d8a05dd236daa": {
          "model_module": "@jupyter-widgets/base",
          "model_name": "LayoutModel",
          "state": {
            "_view_name": "LayoutView",
            "grid_template_rows": null,
            "right": null,
            "justify_content": null,
            "_view_module": "@jupyter-widgets/base",
            "overflow": null,
            "_model_module_version": "1.2.0",
            "_view_count": null,
            "flex_flow": null,
            "width": null,
            "min_width": null,
            "border": null,
            "align_items": null,
            "bottom": null,
            "_model_module": "@jupyter-widgets/base",
            "top": null,
            "grid_column": null,
            "overflow_y": null,
            "overflow_x": null,
            "grid_auto_flow": null,
            "grid_area": null,
            "grid_template_columns": null,
            "flex": null,
            "_model_name": "LayoutModel",
            "justify_items": null,
            "grid_row": null,
            "max_height": null,
            "align_content": null,
            "visibility": null,
            "align_self": null,
            "height": null,
            "min_height": null,
            "padding": null,
            "grid_auto_rows": null,
            "grid_gap": null,
            "max_width": null,
            "order": null,
            "_view_module_version": "1.2.0",
            "grid_template_areas": null,
            "object_position": null,
            "object_fit": null,
            "grid_auto_columns": null,
            "margin": null,
            "display": null,
            "left": null
          }
        },
        "4bcd1b1f59bd4e66b16902b9d1e71166": {
          "model_module": "@jupyter-widgets/controls",
          "model_name": "IntProgressModel",
          "state": {
            "_view_name": "ProgressView",
            "style": "IPY_MODEL_5be3f0bdb4534021a28224bc80f2ef2c",
            "_dom_classes": [],
            "description": "",
            "_model_name": "IntProgressModel",
            "bar_style": "info",
            "max": 1,
            "_view_module": "@jupyter-widgets/controls",
            "_model_module_version": "1.5.0",
            "value": 1,
            "_view_count": null,
            "_view_module_version": "1.5.0",
            "orientation": "horizontal",
            "min": 0,
            "description_tooltip": null,
            "_model_module": "@jupyter-widgets/controls",
            "layout": "IPY_MODEL_73e1fd0e097b44eaacb598c2c5d8d838"
          }
        },
        "a58a69ff69264be3859d04589d4efc4a": {
          "model_module": "@jupyter-widgets/controls",
          "model_name": "HTMLModel",
          "state": {
            "_view_name": "HTMLView",
            "style": "IPY_MODEL_42827290128c426fbe7ca0d3d265aeb9",
            "_dom_classes": [],
            "description": "",
            "_model_name": "HTMLModel",
            "placeholder": "​",
            "_view_module": "@jupyter-widgets/controls",
            "_model_module_version": "1.5.0",
            "value": " 53/? [03:29&lt;00:00,  2.41s/it]",
            "_view_count": null,
            "_view_module_version": "1.5.0",
            "description_tooltip": null,
            "_model_module": "@jupyter-widgets/controls",
            "layout": "IPY_MODEL_19a4680ed81a46ed90b091875a7165fc"
          }
        },
        "5be3f0bdb4534021a28224bc80f2ef2c": {
          "model_module": "@jupyter-widgets/controls",
          "model_name": "ProgressStyleModel",
          "state": {
            "_view_name": "StyleView",
            "_model_name": "ProgressStyleModel",
            "description_width": "initial",
            "_view_module": "@jupyter-widgets/base",
            "_model_module_version": "1.5.0",
            "_view_count": null,
            "_view_module_version": "1.2.0",
            "bar_color": null,
            "_model_module": "@jupyter-widgets/controls"
          }
        },
        "73e1fd0e097b44eaacb598c2c5d8d838": {
          "model_module": "@jupyter-widgets/base",
          "model_name": "LayoutModel",
          "state": {
            "_view_name": "LayoutView",
            "grid_template_rows": null,
            "right": null,
            "justify_content": null,
            "_view_module": "@jupyter-widgets/base",
            "overflow": null,
            "_model_module_version": "1.2.0",
            "_view_count": null,
            "flex_flow": null,
            "width": null,
            "min_width": null,
            "border": null,
            "align_items": null,
            "bottom": null,
            "_model_module": "@jupyter-widgets/base",
            "top": null,
            "grid_column": null,
            "overflow_y": null,
            "overflow_x": null,
            "grid_auto_flow": null,
            "grid_area": null,
            "grid_template_columns": null,
            "flex": null,
            "_model_name": "LayoutModel",
            "justify_items": null,
            "grid_row": null,
            "max_height": null,
            "align_content": null,
            "visibility": null,
            "align_self": null,
            "height": null,
            "min_height": null,
            "padding": null,
            "grid_auto_rows": null,
            "grid_gap": null,
            "max_width": null,
            "order": null,
            "_view_module_version": "1.2.0",
            "grid_template_areas": null,
            "object_position": null,
            "object_fit": null,
            "grid_auto_columns": null,
            "margin": null,
            "display": null,
            "left": null
          }
        },
        "42827290128c426fbe7ca0d3d265aeb9": {
          "model_module": "@jupyter-widgets/controls",
          "model_name": "DescriptionStyleModel",
          "state": {
            "_view_name": "StyleView",
            "_model_name": "DescriptionStyleModel",
            "description_width": "",
            "_view_module": "@jupyter-widgets/base",
            "_model_module_version": "1.5.0",
            "_view_count": null,
            "_view_module_version": "1.2.0",
            "_model_module": "@jupyter-widgets/controls"
          }
        },
        "19a4680ed81a46ed90b091875a7165fc": {
          "model_module": "@jupyter-widgets/base",
          "model_name": "LayoutModel",
          "state": {
            "_view_name": "LayoutView",
            "grid_template_rows": null,
            "right": null,
            "justify_content": null,
            "_view_module": "@jupyter-widgets/base",
            "overflow": null,
            "_model_module_version": "1.2.0",
            "_view_count": null,
            "flex_flow": null,
            "width": null,
            "min_width": null,
            "border": null,
            "align_items": null,
            "bottom": null,
            "_model_module": "@jupyter-widgets/base",
            "top": null,
            "grid_column": null,
            "overflow_y": null,
            "overflow_x": null,
            "grid_auto_flow": null,
            "grid_area": null,
            "grid_template_columns": null,
            "flex": null,
            "_model_name": "LayoutModel",
            "justify_items": null,
            "grid_row": null,
            "max_height": null,
            "align_content": null,
            "visibility": null,
            "align_self": null,
            "height": null,
            "min_height": null,
            "padding": null,
            "grid_auto_rows": null,
            "grid_gap": null,
            "max_width": null,
            "order": null,
            "_view_module_version": "1.2.0",
            "grid_template_areas": null,
            "object_position": null,
            "object_fit": null,
            "grid_auto_columns": null,
            "margin": null,
            "display": null,
            "left": null
          }
        }
      }
    }
  },
  "cells": [
    {
      "cell_type": "markdown",
      "metadata": {
        "id": "view-in-github",
        "colab_type": "text"
      },
      "source": [
        "<a href=\"https://colab.research.google.com/github/charlyandral/OT/blob/master/notebook.ipynb\" target=\"_parent\"><img src=\"https://colab.research.google.com/assets/colab-badge.svg\" alt=\"Open In Colab\"/></a>"
      ]
    },
    {
      "cell_type": "markdown",
      "metadata": {
        "id": "ZKHFLDyWIV6t",
        "colab_type": "text"
      },
      "source": [
        " # OT-GAN"
      ]
    },
    {
      "cell_type": "markdown",
      "metadata": {
        "id": "utIWQ5YEIV6u",
        "colab_type": "text"
      },
      "source": [
        " ## Importation des modules"
      ]
    },
    {
      "cell_type": "code",
      "metadata": {
        "id": "7EWaeOKxIV6v",
        "colab_type": "code",
        "colab": {}
      },
      "source": [
        "# Packages de base\n",
        "from tensorflow.keras.layers import Layer, Conv2D, Multiply, Activation\n",
        "import os\n",
        "import numpy as np\n",
        "import pandas as pd\n",
        "import matplotlib.pyplot as plt\n",
        "import time\n",
        "from tqdm.notebook import tqdm\n",
        "# Tensorflow\n",
        "import tensorflow as tf\n",
        "from tensorflow.keras import layers\n",
        "\n",
        "# Transport\n",
        "#import ot\n",
        "\n",
        "# Graphiques\n",
        "\n"
      ],
      "execution_count": 0,
      "outputs": []
    },
    {
      "cell_type": "code",
      "metadata": {
        "id": "tlEHCiUHIV60",
        "colab_type": "code",
        "colab": {}
      },
      "source": [
        "import glob\n",
        "import imageio\n",
        "import matplotlib.pyplot as plt\n",
        "import numpy as np\n",
        "import os\n",
        "import PIL\n",
        "from tensorflow.keras import layers\n",
        "import time\n",
        "\n",
        "from IPython import display\n"
      ],
      "execution_count": 0,
      "outputs": []
    },
    {
      "cell_type": "markdown",
      "metadata": {
        "id": "eQdize22IV63",
        "colab_type": "text"
      },
      "source": [
        " ## Importation des données\n",
        "\n",
        " La base de données MNIST est composée de respectivement 60000 et 10000 images dans sa partie \"Train\" et sa partie \"Test\". Chaque image représente un chiffre et est composée de 28 x 28 pixels."
      ]
    },
    {
      "cell_type": "markdown",
      "metadata": {
        "id": "ZsYDNuc8IV64",
        "colab_type": "text"
      },
      "source": [
        " ### Base d'entrainement & Base de Test"
      ]
    },
    {
      "cell_type": "markdown",
      "metadata": {
        "id": "FGd85YhZIV65",
        "colab_type": "text"
      },
      "source": [
        " ## Paramètres"
      ]
    },
    {
      "cell_type": "markdown",
      "metadata": {
        "id": "ZlS-isUMIV65",
        "colab_type": "text"
      },
      "source": [
        " ## Création du générateur"
      ]
    },
    {
      "cell_type": "code",
      "metadata": {
        "id": "8zIJZUafIV66",
        "colab_type": "code",
        "colab": {}
      },
      "source": [
        "\n",
        "\n",
        "class cRelu(layers.Layer):\n",
        "\n",
        "    def __init__(self, **kwargs):\n",
        "        super(cRelu, self).__init__(**kwargs)\n",
        "\n",
        "    def build(self, input_shape):\n",
        "        super(cRelu, self).build(input_shape)\n",
        "\n",
        "    def call(self, x):\n",
        "        return tf.nn.crelu(x)\n",
        "\n",
        "    def compute_output_shape(self, input_shape):\n",
        "        \"\"\"\n",
        "        All axis of output_shape, except the last one,\n",
        "        coincide with the input shape.\n",
        "        The last one is twice the size of the corresponding input \n",
        "        as it's the axis along which the two relu get concatenated.\n",
        "        \"\"\"\n",
        "        return (*input_shape[:-1], input_shape[-1]*2)\n",
        "\n"
      ],
      "execution_count": 0,
      "outputs": []
    },
    {
      "cell_type": "code",
      "metadata": {
        "id": "KIwnlYChIV69",
        "colab_type": "code",
        "colab": {}
      },
      "source": [
        "\n",
        "\n",
        "class FullGatedConv2D(Conv2D):\n",
        "    \"\"\"Gated Convolutional Class\"\"\"\n",
        "\n",
        "    def __init__(self, filters, **kwargs):\n",
        "        super(FullGatedConv2D, self).__init__(filters=filters * 2, **kwargs)\n",
        "        self.nb_filters = filters\n",
        "\n",
        "    def call(self, inputs):\n",
        "        \"\"\"Apply gated convolution\"\"\"\n",
        "\n",
        "        output = super(FullGatedConv2D, self).call(inputs)\n",
        "        linear = Activation(\"linear\")(output[:, :, :, :self.nb_filters])\n",
        "        sigmoid = Activation(\"sigmoid\")(output[:, :, :, self.nb_filters:])\n",
        "\n",
        "        return Multiply()([linear, sigmoid])\n",
        "\n",
        "    def compute_output_shape(self, input_shape):\n",
        "        \"\"\"Compute shape of layer output\"\"\"\n",
        "\n",
        "        output_shape = super(\n",
        "            FullGatedConv2D, self).compute_output_shape(input_shape)\n",
        "        return tuple(output_shape[:3]) + (self.nb_filters,)\n",
        "\n",
        "    def get_config(self):\n",
        "        \"\"\"Return the config of the layer\"\"\"\n",
        "\n",
        "        config = super(FullGatedConv2D, self).get_config()\n",
        "        config['nb_filters'] = self.nb_filters\n",
        "        del config['filters']\n",
        "        return config\n",
        "\n"
      ],
      "execution_count": 0,
      "outputs": []
    },
    {
      "cell_type": "code",
      "metadata": {
        "id": "t8Or0fqxIV7A",
        "colab_type": "code",
        "colab": {}
      },
      "source": [
        "def CreationGenerateur():\n",
        "\n",
        "    # Initialisation\n",
        "    model = tf.keras.Sequential()\n",
        "\n",
        "    # Linear Reshape 100 -> 256x7x7\n",
        "    model.add(layers.Dense(256*7*7, use_bias=False, input_shape=(100,)))\n",
        "    model.add(layers.Reshape((7, 7, 256)))\n",
        "    assert model.output_shape == (None, 7, 7, 256)\n",
        "    # 256x7x7 -> 128x7x7\n",
        "    # stride = 1, activation = GLU\n",
        "    model.add(FullGatedConv2D(128, kernel_size=(5, 5),\n",
        "                              strides=(1, 1),\n",
        "                              activation='linear',\n",
        "                              padding='same',\n",
        "                              use_bias=False))\n",
        "    print(model.output_shape)\n",
        "\n",
        "    # 128x7x7 -> 64x14x14\n",
        "    model.add(layers.UpSampling2D())\n",
        "    model.add(FullGatedConv2D(64, kernel_size=(5, 5), strides=(1, 1),\n",
        "                              activation='linear',\n",
        "                              padding='same',\n",
        "                              use_bias=False))\n",
        "    print(model.output_shape)\n",
        "\n",
        "    model.add(layers.UpSampling2D())\n",
        "    model.add(FullGatedConv2D(64, kernel_size=(5, 5),\n",
        "                              strides=(1, 1),\n",
        "                              activation='linear',\n",
        "                              padding='same',\n",
        "                              use_bias=False))\n",
        "    print(model.output_shape)\n",
        "\n",
        "    model.add(layers.Conv2DTranspose(1, kernel_size=(5, 5),\n",
        "                                     strides=(1, 1),\n",
        "                                     activation='tanh',\n",
        "                                     padding='same',\n",
        "                                     use_bias=False))\n",
        "    print(model.output_shape)\n",
        "\n",
        "    return model\n",
        "\n",
        "    #model.add(layers.UpSampling2D(size=(2, 2), data_format=None, interpolation='nearest'))\n",
        "    # model.add(layers.Conv2D(,kernel_size=(5,5)), padding=)\n"
      ],
      "execution_count": 0,
      "outputs": []
    },
    {
      "cell_type": "markdown",
      "metadata": {
        "id": "Kc6mVZ83IV7E",
        "colab_type": "text"
      },
      "source": [
        " ### Initialisation et exemple\n",
        "\n",
        " Le bruit en input du générateur est initialisé par un vecteur aléatoire de taille 100 et de loi uniforme sur [-1,1]."
      ]
    },
    {
      "cell_type": "markdown",
      "metadata": {
        "id": "M7JBaI7xIV7E",
        "colab_type": "text"
      },
      "source": [
        " ## Création du discriminant"
      ]
    },
    {
      "cell_type": "code",
      "metadata": {
        "id": "1v6LhZi4IV7F",
        "colab_type": "code",
        "colab": {}
      },
      "source": [
        "\n",
        "\n",
        "def CreationDiscriminateur():\n",
        "\n",
        "    # Initialisation\n",
        "    model = tf.keras.Sequential()\n",
        "    model.add(layers.Conv2D(50, kernel_size=(5, 5),\n",
        "                            strides=(1, 1), padding='same',\n",
        "                            input_shape=[28, 28, 1]))\n",
        "    model.add(cRelu())\n",
        "    print(model.output_shape)\n",
        "\n",
        "    model.add(layers.Conv2D(100, kernel_size=(5, 5),\n",
        "                            strides=(2, 2), padding='same'))\n",
        "    model.add(cRelu())\n",
        "    print(model.output_shape)\n",
        "\n",
        "    model.add(layers.Conv2D(100, kernel_size=(5, 5),\n",
        "                            strides=(2, 2), padding='same'))\n",
        "    model.add(cRelu())\n",
        "    print(model.output_shape)\n",
        "\n",
        "    model.add(layers.Flatten())\n",
        "    print(model.output_shape)\n",
        "\n",
        "    return model\n"
      ],
      "execution_count": 0,
      "outputs": []
    },
    {
      "cell_type": "markdown",
      "metadata": {
        "id": "djwmrhmhIV7J",
        "colab_type": "text"
      },
      "source": [
        " ### Initialisation\n",
        " On initialise les poids (arbitrairement) selon une loi Normale centrée d'écart-type 0.02"
      ]
    },
    {
      "cell_type": "markdown",
      "metadata": {
        "id": "hH3nlm9EIV7K",
        "colab_type": "text"
      },
      "source": [
        " ## Fonction de perte"
      ]
    },
    {
      "cell_type": "markdown",
      "metadata": {
        "id": "-SdHzIv0IV7K",
        "colab_type": "text"
      },
      "source": [
        " ## Implémentation de Sinkhorn\n",
        "\n",
        " Afin de pouvoir utiliser la différentiation automatique pour calculer le gradient de la perte, nous allons implémenter l'algorithme Sinkhorn en utilisant Tensorflow."
      ]
    },
    {
      "cell_type": "code",
      "metadata": {
        "id": "Se_rJIOTIV7L",
        "colab_type": "code",
        "colab": {}
      },
      "source": [
        "\n",
        "\n",
        "def Sinkhorn(M, m_size, reg, numItermax=1000, stopThr=1e-9):\n",
        "    # we assume that no distances are null except those of the diagonal of distances\n",
        "\n",
        "    a = tf.expand_dims(\n",
        "        tf.ones(shape=(m_size[0],)) / m_size[0], axis=1)  # (na, 1)\n",
        "    b = tf.expand_dims(\n",
        "        tf.ones(shape=(m_size[1],)) / m_size[1], axis=1)  # (nb, 1)\n",
        "\n",
        "    # init data\n",
        "    Nini = m_size[0]\n",
        "    Nfin = m_size[1]\n",
        "\n",
        "    u = tf.expand_dims(tf.ones(Nini) / Nini, axis=1)  # (na, 1)\n",
        "    v = tf.expand_dims(tf.ones(Nfin) / Nfin, axis=1)  # (nb, 1)\n",
        "\n",
        "    K = tf.exp(-M / reg)  # (na, nb)\n",
        "\n",
        "    Kp = (1.0 / a) * K  # (na, 1) * (na, nb) = (na, nb)\n",
        "\n",
        "    cpt = tf.constant(0)\n",
        "    err = tf.constant(1.0)\n",
        "\n",
        "    def c(cpt, u, v, err): return tf.logical_and(\n",
        "        cpt < numItermax, err > stopThr)\n",
        "\n",
        "    def err_f1():\n",
        "        # we can speed up the process by checking for the error only all the 10th iterations\n",
        "        # (na, 1) * ((na, nb) * (nb,)) = (na, nb)\n",
        "        transp = u * (K * tf.squeeze(v))\n",
        "        err_ = tf.pow(tf.norm(tf.reduce_sum(transp) - b, ord=1), 2)  # (,)\n",
        "        return err_\n",
        "\n",
        "    def err_f2():\n",
        "        return err\n",
        "\n",
        "    def loop_func(cpt, u, v, err):\n",
        "        # (nb, na) x (na, 1) = (nb, 1)\n",
        "        KtransposeU = tf.matmul(tf.transpose(K, (1, 0)), u)\n",
        "        v = tf.divide(b, KtransposeU)  # (nb, 1)\n",
        "        u = 1.0 / tf.matmul(Kp, v)  # (na, 1)\n",
        "\n",
        "        err = tf.cond(tf.equal(cpt % 10, 0), err_f1, err_f2)\n",
        "\n",
        "        cpt = tf.add(cpt, 1)\n",
        "        return cpt, u, v, err\n",
        "\n",
        "    _, u, v, _ = tf.while_loop(c, loop_func, loop_vars=[cpt, u, v, err])\n",
        "\n",
        "    result = tf.reduce_sum(u * K * tf.reshape(v, (1, -1)) * M)\n",
        "\n",
        "    return result\n",
        "\n"
      ],
      "execution_count": 0,
      "outputs": []
    },
    {
      "cell_type": "code",
      "metadata": {
        "id": "2sGkZu3YIV7O",
        "colab_type": "code",
        "colab": {}
      },
      "source": [
        "def TransCost(X, Y):\n",
        "\n",
        "    CX = tf.tile(tf.expand_dims(X, axis=1), [1, Y.shape[0], 1])\n",
        "    CY = tf.tile(tf.expand_dims(Y, axis=0), [X.shape[0], 1, 1])\n",
        "    CC = tf.add(tf.ones((X.shape[0], Y.shape[0])),\n",
        "                tf.keras.losses.CosineSimilarity(axis=2)(CX, CY))\n",
        "    return CC\n",
        "\n"
      ],
      "execution_count": 0,
      "outputs": []
    },
    {
      "cell_type": "code",
      "metadata": {
        "id": "mDDMk-CjIV7Q",
        "colab_type": "code",
        "colab": {}
      },
      "source": [
        "# @tf.function\n",
        "def WassersteinD(X, Y, Penalite):\n",
        "    Y /= tf.sqrt(tf.reduce_sum(tf.square(Y), axis=1, keepdims=True))\n",
        "    X /= tf.sqrt(tf.reduce_sum(tf.square(X), axis=1, keepdims=True))\n",
        "    dist = []\n",
        "\n",
        "    for i in range(X.shape[0]):\n",
        "        dist.append(1. - tf.matmul(tf.expand_dims(X[i], 0), Y, transpose_b=True))\n",
        "    CC = tf.concat(dist, 0)\n",
        "    CSize = CC.shape\n",
        "    W = Sinkhorn(CC, CSize, Penalite, numItermax=1000, stopThr=1e-9)\n",
        "    return W\n",
        "\n"
      ],
      "execution_count": 0,
      "outputs": []
    },
    {
      "cell_type": "code",
      "metadata": {
        "id": "EaaQYUGdIV7U",
        "colab_type": "code",
        "colab": {}
      },
      "source": [
        "def Loss(X1, X2, Y1, Y2, Penalite):\n",
        "\n",
        "    I1 = tf.add(WassersteinD(X1, Y1, Penalite), WassersteinD(X1, Y2, Penalite))\n",
        "    I1 = tf.add(I1, WassersteinD(X2, Y1, Penalite))\n",
        "    I1 = tf.add(I1, WassersteinD(X2, Y2, Penalite))\n",
        "    I1 = tf.subtract(I1, tf.multiply(2., WassersteinD(X1, X2, Penalite)))\n",
        "    L = tf.subtract(I1, tf.multiply(2., WassersteinD(Y1, Y2, Penalite)))\n",
        "\n",
        "    return L\n",
        "\n"
      ],
      "execution_count": 0,
      "outputs": []
    },
    {
      "cell_type": "code",
      "metadata": {
        "id": "bBAtcd52IV7a",
        "colab_type": "code",
        "colab": {}
      },
      "source": [
        "# n = 1000\n",
        "# m = 10000\n",
        "# X = tf.random.normal([n, m])\n",
        "# Y = tf.random.normal([n, m])\n",
        "# WassersteinD(X, Y, 1/50)\n",
        "\n"
      ],
      "execution_count": 0,
      "outputs": []
    },
    {
      "cell_type": "code",
      "metadata": {
        "id": "-5Vigh1qIV7d",
        "colab_type": "code",
        "outputId": "7cd69b2a-ad58-4d72-e34d-ec59a1fbe85c",
        "colab": {
          "base_uri": "https://localhost:8080/",
          "height": 151
        }
      },
      "source": [
        "generator_optimizer = tf.keras.optimizers.Adam(3e-4,beta_1=0.5)\n",
        "discriminator_optimizer = tf.keras.optimizers.Adam(3e-4,beta_1=0.5)\n",
        "generator = CreationGenerateur()\n",
        "discriminator = CreationDiscriminateur()\n",
        "\n"
      ],
      "execution_count": 116,
      "outputs": [
        {
          "output_type": "stream",
          "text": [
            "(None, 7, 7, 128)\n",
            "(None, 14, 14, 64)\n",
            "(None, 28, 28, 64)\n",
            "(None, 28, 28, 1)\n",
            "(None, 28, 28, 100)\n",
            "(None, 14, 14, 200)\n",
            "(None, 7, 7, 200)\n",
            "(None, 9800)\n"
          ],
          "name": "stdout"
        }
      ]
    },
    {
      "cell_type": "code",
      "metadata": {
        "id": "-NeOo34jIV7g",
        "colab_type": "code",
        "colab": {}
      },
      "source": [
        "checkpoint_dir = './training_checkpoints'\n",
        "checkpoint_prefix = os.path.join(checkpoint_dir, \"ckpt\")\n",
        "checkpoint = tf.train.Checkpoint(generator_optimizer=generator_optimizer,\n",
        "                                 discriminator_optimizer=discriminator_optimizer,\n",
        "                                 generator=generator,\n",
        "                                 discriminator=discriminator)\n",
        "\n"
      ],
      "execution_count": 0,
      "outputs": []
    },
    {
      "cell_type": "code",
      "metadata": {
        "id": "qy3Czp4wIV7j",
        "colab_type": "code",
        "colab": {}
      },
      "source": [
        "EPOCHS = 50\n",
        "noise_dim = 100\n",
        "num_examples_to_generate = 16\n",
        "\n",
        "# We will reuse this seed overtime (so it's easier)\n",
        "# to visualize progress in the animated GIF)\n",
        "seed = tf.random.normal([num_examples_to_generate, noise_dim])\n"
      ],
      "execution_count": 0,
      "outputs": []
    },
    {
      "cell_type": "markdown",
      "metadata": {
        "id": "-uRHHbO1IV7m",
        "colab_type": "text"
      },
      "source": [
        " ## Optimizers"
      ]
    },
    {
      "cell_type": "markdown",
      "metadata": {
        "id": "cb1OQECcIV7n",
        "colab_type": "text"
      },
      "source": [
        " ## Entrainement"
      ]
    },
    {
      "cell_type": "markdown",
      "metadata": {
        "id": "zxV21jUkIV7n",
        "colab_type": "text"
      },
      "source": [
        ""
      ]
    },
    {
      "cell_type": "code",
      "metadata": {
        "id": "e0W2rEGZIV7o",
        "colab_type": "code",
        "outputId": "49190615-e947-433a-add0-7efc6c811160",
        "colab": {
          "base_uri": "https://localhost:8080/",
          "height": 34
        }
      },
      "source": [
        "(train_images, train_labels), (_, _) = tf.keras.datasets.mnist.load_data()\n",
        "\n",
        "#train_images = train_images[train_labels == 1]\n",
        "train_images = train_images.reshape(\n",
        "    train_images.shape[0], 28, 28, 1).astype('float32')\n",
        "# Normalize the images to [-1, 1]\n",
        "train_images = (train_images - 127.5) / 127.5\n",
        "BUFFER_SIZE = 60000\n",
        "BATCH_SIZE = 200\n",
        "# Batch and shuffle the data\n",
        "train_dataset = tf.data.Dataset.from_tensor_slices(\n",
        "    train_images).shuffle(BUFFER_SIZE).batch(2*BATCH_SIZE)\n",
        "\n",
        "\n",
        "# # %%\n",
        "i = 0\n",
        "for _ in train_dataset:\n",
        "    i += 1\n",
        "print(\"nombre d'élements par batch :\",i)\n",
        "\n"
      ],
      "execution_count": 119,
      "outputs": [
        {
          "output_type": "stream",
          "text": [
            "nombre d'élements par batch : 150\n"
          ],
          "name": "stdout"
        }
      ]
    },
    {
      "cell_type": "code",
      "metadata": {
        "id": "wE3hCS-qIV7s",
        "colab_type": "code",
        "colab": {}
      },
      "source": [
        "# Notice the use of `tf.function`\n",
        "# This annotation causes the function to be \"compiled\".\n",
        "@tf.function\n",
        "def train_step_gen(images):  # image de taille [2*BATCH_SIZE]\n",
        "    temps1 = time.time()\n",
        "    noise1 = tf.random.uniform([BATCH_SIZE, noise_dim], -1, 1)\n",
        "    noise2 = tf.random.uniform([BATCH_SIZE, noise_dim], -1, 1)\n",
        "\n",
        "    with tf.GradientTape() as gen_tape:\n",
        "        generated_images_1 = generator(noise1, training=True)\n",
        "        generated_images_2 = generator(noise2, training=True)\n",
        "\n",
        "\n",
        "        real_output_1 = discriminator(images[:BATCH_SIZE], training=True)\n",
        "        real_output_2 = discriminator(images[BATCH_SIZE:], training=True)\n",
        "\n",
        "        fake_output_1 = discriminator(generated_images_1, training=True)\n",
        "        fake_output_2 = discriminator(generated_images_2, training=True)\n",
        "\n",
        "        temps4 = time.time()\n",
        "        loss = Loss(real_output_1, real_output_2,\n",
        "                    fake_output_1, fake_output_2,\n",
        "                    Penalite=1/100)\n",
        "    gradients_of_generator = gen_tape.gradient(\n",
        "          loss, generator.trainable_variables)\n",
        "    generator_optimizer.apply_gradients(\n",
        "        zip(gradients_of_generator, generator.trainable_variables))\n",
        "\n",
        "\n",
        "@tf.function\n",
        "def train_step_dis(images):  # image de taille [2*BATCH_SIZE]\n",
        "    temps1 = time.time()\n",
        "    noise1 = tf.random.uniform([BATCH_SIZE, noise_dim], -1, 1)\n",
        "    noise2 = tf.random.uniform([BATCH_SIZE, noise_dim], -1, 1)\n",
        "\n",
        "    with tf.GradientTape() as gen_tape:\n",
        "        generated_images_1 = generator(noise1, training=True)\n",
        "        generated_images_2 = generator(noise2, training=True)\n",
        "\n",
        "\n",
        "        real_output_1 = discriminator(images[:BATCH_SIZE], training=True)\n",
        "        real_output_2 = discriminator(images[BATCH_SIZE:], training=True)\n",
        "\n",
        "        fake_output_1 = discriminator(generated_images_1, training=True)\n",
        "        fake_output_2 = discriminator(generated_images_2, training=True)\n",
        "\n",
        "        temps4 = time.time()\n",
        "        loss = -Loss(real_output_1, real_output_2,\n",
        "                    fake_output_1, fake_output_2,\n",
        "                    Penalite=1/100)\n",
        "   \n",
        "    gradients_of_discriminator = gen_tape.gradient(loss, discriminator.trainable_variables)\n",
        "    discriminator_optimizer.apply_gradients(zip(gradients_of_discriminator, discriminator.trainable_variables))\n",
        "\n"
      ],
      "execution_count": 0,
      "outputs": []
    },
    {
      "cell_type": "code",
      "metadata": {
        "id": "4oPwTEvAIV7u",
        "colab_type": "code",
        "colab": {}
      },
      "source": [
        "def train(dataset, epochs):\n",
        "    for epoch in tqdm(range(epochs)):\n",
        "        start = time.time()\n",
        "        i=0\n",
        "        for image_batch in tqdm(dataset):\n",
        "            if i%4 ==0:\n",
        "              train_step_dis(image_batch)\n",
        "            else:\n",
        "              train_step_gen(image_batch)\n",
        "            i+=1\n",
        "        # Produce images for the GIF as we go\n",
        "        display.clear_output(wait=True)\n",
        "        generate_and_save_images(generator,\n",
        "                                 epoch + 1,\n",
        "                                 seed)\n",
        "\n",
        "        # Save the model every 15 epochs\n",
        "        if (epoch + 1) % 15 == 0:\n",
        "            checkpoint.save(file_prefix=checkpoint_prefix)\n",
        "\n",
        "        print('Time for epoch {} is {} sec'.format(\n",
        "            epoch + 1, time.time()-start))\n",
        "\n",
        "    # Generate after the final epoch\n",
        "    display.clear_output(wait=True)\n",
        "    generate_and_save_images(generator,\n",
        "                             epochs,\n",
        "                             seed)\n",
        "\n"
      ],
      "execution_count": 0,
      "outputs": []
    },
    {
      "cell_type": "code",
      "metadata": {
        "id": "Jv-HVAHvIV7x",
        "colab_type": "code",
        "colab": {}
      },
      "source": [
        "def generate_and_save_images(model, epoch, test_input):\n",
        "    # Notice `training` is set to False.\n",
        "    # This is so all layers run in inference mode (batchnorm).\n",
        "    predictions = model(test_input, training=False)\n",
        "\n",
        "    fig = plt.figure(figsize=(4, 4))\n",
        "\n",
        "    for i in range(predictions.shape[0]):\n",
        "        plt.subplot(4, 4, i+1)\n",
        "        plt.imshow(predictions[i, :, :, 0] * 127.5 + 127.5, cmap='gray')\n",
        "        plt.axis('off')\n",
        "\n",
        "    plt.savefig('image_at_epoch_{:04d}.png'.format(epoch))\n",
        "    plt.show()\n",
        "\n"
      ],
      "execution_count": 0,
      "outputs": []
    },
    {
      "cell_type": "markdown",
      "metadata": {
        "id": "XczwBTCeIV70",
        "colab_type": "text"
      },
      "source": [
        ""
      ]
    },
    {
      "cell_type": "code",
      "metadata": {
        "id": "ot47I297IV70",
        "colab_type": "code",
        "outputId": "1857afa1-41cd-4769-d8ce-83a63f2b89f3",
        "colab": {
          "base_uri": "https://localhost:8080/",
          "height": 282
        }
      },
      "source": [
        "noise = tf.random.normal([1, 100])\n",
        "generated_image = generator(noise, training=False)\n",
        "\n",
        "plt.imshow(generated_image[0, :, :, 0], cmap='gray')\n",
        "\n"
      ],
      "execution_count": 123,
      "outputs": [
        {
          "output_type": "execute_result",
          "data": {
            "text/plain": [
              "<matplotlib.image.AxesImage at 0x7f24d37abb70>"
            ]
          },
          "metadata": {
            "tags": []
          },
          "execution_count": 123
        },
        {
          "output_type": "display_data",
          "data": {
            "image/png": "[encoded data removed]",
            "text/plain": [
              "<Figure size 432x288 with 1 Axes>"
            ]
          },
          "metadata": {
            "tags": [],
            "needs_background": "light"
          }
        }
      ]
    },
    {
      "cell_type": "code",
      "metadata": {
        "id": "0dsDyD0zIV73",
        "colab_type": "code",
        "outputId": "e3386853-a6be-41e0-806f-35ad9570c72e",
        "colab": {
          "base_uri": "https://localhost:8080/",
          "height": 81,
          "referenced_widgets": [
            "bad42d9a1c4c43c6a26f43fecfa79da7",
            "c8eea1570f6b49998e47139438e31f4d",
            "d5618ea91a0a44a69f455472a8afb229",
            "71fe11f80a9445aeb1f80fd28fdb4160",
            "799bfbca1cb64a2fab816d538cd80214",
            "f667690d700e4654aef689a953c09001",
            "0e8dee67ffd74e79a8c6936b1d2cce95",
            "37154aec11654fc5bdc4cb0ce4f39a0b",
            "7479c6c9d41741cf91c6717b2e1be49a",
            "292f5b27d67f4469ba2d8a05dd236daa",
            "4bcd1b1f59bd4e66b16902b9d1e71166",
            "a58a69ff69264be3859d04589d4efc4a",
            "5be3f0bdb4534021a28224bc80f2ef2c",
            "73e1fd0e097b44eaacb598c2c5d8d838",
            "42827290128c426fbe7ca0d3d265aeb9",
            "19a4680ed81a46ed90b091875a7165fc"
          ]
        }
      },
      "source": [
        "train(train_dataset,100)"
      ],
      "execution_count": 0,
      "outputs": [
        {
          "output_type": "display_data",
          "data": {
            "application/vnd.jupyter.widget-view+json": {
              "model_id": "bad42d9a1c4c43c6a26f43fecfa79da7",
              "version_minor": 0,
              "version_major": 2
            },
            "text/plain": [
              "HBox(children=(IntProgress(value=0), HTML(value='')))"
            ]
          },
          "metadata": {
            "tags": []
          }
        },
        {
          "output_type": "display_data",
          "data": {
            "application/vnd.jupyter.widget-view+json": {
              "model_id": "7479c6c9d41741cf91c6717b2e1be49a",
              "version_minor": 0,
              "version_major": 2
            },
            "text/plain": [
              "HBox(children=(IntProgress(value=1, bar_style='info', max=1), HTML(value='')))"
            ]
          },
          "metadata": {
            "tags": []
          }
        }
      ]
    },
    {
      "cell_type": "code",
      "metadata": {
        "id": "93hZnXHZIwK3",
        "colab_type": "code",
        "colab": {}
      },
      "source": [
        ""
      ],
      "execution_count": 0,
      "outputs": []
    }
  ]
}